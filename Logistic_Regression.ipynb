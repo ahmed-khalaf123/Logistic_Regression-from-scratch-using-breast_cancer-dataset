{
  "nbformat": 4,
  "nbformat_minor": 0,
  "metadata": {
    "colab": {
      "provenance": [],
      "collapsed_sections": []
    },
    "kernelspec": {
      "name": "python3",
      "display_name": "Python 3"
    },
    "language_info": {
      "name": "python"
    },
    "accelerator": "GPU",
    "gpuClass": "standard"
  },
  "cells": [
    {
      "cell_type": "code",
      "execution_count": 1,
      "metadata": {
        "id": "xfSqOy5aorlV"
      },
      "outputs": [],
      "source": [
        "#Import Libraries\n",
        "from sklearn.datasets import load_breast_cancer\n",
        "from sklearn.model_selection import train_test_split\n",
        "from sklearn.linear_model import LogisticRegression\n",
        "from sklearn.metrics import confusion_matrix\n",
        "import seaborn as sns\n",
        "import matplotlib.pyplot as plt\n",
        "import numpy as np\n",
        "import warnings\n",
        "warnings.filterwarnings( \"ignore\" )"
      ]
    },
    {
      "cell_type": "code",
      "source": [
        "#load breast cancer data\n",
        "BreastData = load_breast_cancer()\n",
        "#X Data\n",
        "X = BreastData.data\n",
        "#y Data\n",
        "Y = BreastData.target"
      ],
      "metadata": {
        "id": "JusEJKmXqp5X"
      },
      "execution_count": 2,
      "outputs": []
    },
    {
      "cell_type": "code",
      "source": [
        "print ('The shape of X_train is: ' + str(X.shape))\n",
        "print ('The shape of y_train is: ' + str(Y.shape))\n",
        "print ('We have m = %d training examples' % (len(Y)))"
      ],
      "metadata": {
        "colab": {
          "base_uri": "https://localhost:8080/"
        },
        "id": "beBZSxDkq5vi",
        "outputId": "7d62b209-71e6-4f25-c8d2-782bad51de2e"
      },
      "execution_count": 3,
      "outputs": [
        {
          "output_type": "stream",
          "name": "stdout",
          "text": [
            "The shape of X_train is: (569, 30)\n",
            "The shape of y_train is: (569,)\n",
            "We have m = 569 training examples\n"
          ]
        }
      ]
    },
    {
      "cell_type": "code",
      "source": [
        "#Splitting data\n",
        "\n",
        "X_train, X_test, Y_train, Y_test = train_test_split(X, Y, test_size=1/3, random_state=44, shuffle =True)"
      ],
      "metadata": {
        "id": "HulgVCkH8JtO"
      },
      "execution_count": 4,
      "outputs": []
    },
    {
      "cell_type": "markdown",
      "source": [
        "\n",
        "###  Sigmoid function\n",
        "$$g(z) = \\frac{1}{1+e^{-z}}$$"
      ],
      "metadata": {
        "id": "Lp38l74bsgEb"
      }
    },
    {
      "cell_type": "markdown",
      "source": [
        "\n",
        "### Cost function for logistic regression\n",
        "  Implement the cost function for logistic regression.\n",
        "$$ J(\\mathbf{w},b) = \\frac{1}{m}\\sum_{i=0}^{m-1} \\left[ loss(f_{\\mathbf{w},b}(\\mathbf{x}^{(i)}), y^{(i)}) \\right] \\tag{1}$$\n",
        "where\n",
        "* m is the number of training examples in the dataset\n",
        "\n",
        "\n",
        "* $loss(f_{\\mathbf{w},b}(\\mathbf{x}^{(i)}), y^{(i)})$ is the cost for a single data point, which is - \n",
        "\n",
        "    $$loss(f_{\\mathbf{w},b}(\\mathbf{x}^{(i)}), y^{(i)}) = (-y^{(i)} \\log\\left(f_{\\mathbf{w},b}\\left( \\mathbf{x}^{(i)} \\right) \\right) - \\left( 1 - y^{(i)}\\right) \\log \\left( 1 - f_{\\mathbf{w},b}\\left( \\mathbf{x}^{(i)} \\right) \\right) \\tag{2}$$\n",
        "*  $f_{\\mathbf{w},b}(\\mathbf{x}^{(i)}) = g(\\mathbf{w} \\cdot \\mathbf{x^{(i)}} + b)$ where function $g$ is the sigmoid function."
      ],
      "metadata": {
        "id": "Hut7HrTEuEDF"
      }
    },
    {
      "cell_type": "markdown",
      "source": [
        "### Gradient for logistic regression\n",
        "###compute_gradient\n",
        " function to compute $\\frac{\\partial J(\\mathbf{w},b)}{\\partial w}$, $\\frac{\\partial J(\\mathbf{w},b)}{\\partial b}$ from equations (2) and (3) below.\n",
        "\n",
        "$$\n",
        "\\frac{\\partial J(\\mathbf{w},b)}{\\partial b}  = \\frac{1}{m} \\sum\\limits_{i = 0}^{m-1} (f_{\\mathbf{w},b}(\\mathbf{x}^{(i)}) - \\mathbf{y}^{(i)}) \\tag{2}\n",
        "$$\n",
        "$$\n",
        "\\frac{\\partial J(\\mathbf{w},b)}{\\partial w_j}  = \\frac{1}{m} \\sum\\limits_{i = 0}^{m-1} (f_{\\mathbf{w},b}(\\mathbf{x}^{(i)}) - \\mathbf{y}^{(i)})x_{j}^{(i)} \\tag{3}\n",
        "$$"
      ],
      "metadata": {
        "id": "HtV8Q-ZNwSRS"
      }
    },
    {
      "cell_type": "markdown",
      "source": [
        "### Evaluating logistic regression\n",
        "  if $f(x^{(i)}) >= 0.5$, predict $y^{(i)}=1$\n",
        "  \n",
        "  if $f(x^{(i)}) < 0.5$, predict $y^{(i)}=0$"
      ],
      "metadata": {
        "id": "ryRDOe5Nx6jv"
      }
    },
    {
      "cell_type": "code",
      "source": [
        "# Build Logistic Regression\n",
        "class MyModel() :\n",
        "    def __init__( self, learning_rate, iterations ) :        \n",
        "        self.learning_rate = learning_rate        \n",
        "        self.iterations = iterations\n",
        "    # Sigmoid Function\n",
        "    @staticmethod\n",
        "    def sigmoid(z): \n",
        "        g = 1/(1+np.exp(-z))  \n",
        "        return g \n",
        "  \n",
        "    # Function for model training    \n",
        "    def fit( self, X, Y ) :        \n",
        "        # no_of_training_examples, no_of_features        \n",
        "        self.m, self.n = X.shape        \n",
        "        # weight initialization        \n",
        "        self.W = np.zeros( self.n )        \n",
        "        self.b = 0        \n",
        "        self.X = X        \n",
        "        self.Y = Y\n",
        "          \n",
        "        # gradient descent learning\n",
        "                  \n",
        "        for i in range( self.iterations ) :            \n",
        "            self.update_weights()            \n",
        "        return self\n",
        "      \n",
        "    # Helper function to update weights in gradient descent\n",
        "      \n",
        "    def update_weights( self ) :\n",
        "        Z=self.X.dot( self.W ) + self.b            \n",
        "        A = self.sigmoid (Z) \n",
        "          \n",
        "        # calculate gradients        \n",
        "        tmp = ( A - self.Y )      \n",
        "        dW = np.dot( self.X.T, tmp ) / self.m         \n",
        "        db = np.sum( tmp ) / self.m \n",
        "          \n",
        "        # update weights    \n",
        "        self.W = self.W - self.learning_rate * dW    \n",
        "        self.b = self.b - self.learning_rate * db\n",
        "          \n",
        "        return self\n",
        "    # cost function\n",
        "    def cost(self,X,Y):\n",
        "        m, n = X.shape\n",
        "        total_cost = 1\n",
        "        for i in range(m):\n",
        "            Z = np.dot(X[i], self.W) + self.b                                   \n",
        "            A = self.sigmoid(Z) \n",
        "            #loss equation                                         \n",
        "            total_cost += (-Y[i]*np.log(A)) - ((1-Y[i])*np.log(1-A))      \n",
        "             \n",
        "        total_cost /= m\n",
        "        return total_cost\n",
        "    # Hypothetical function  h( x ) \n",
        "      \n",
        "    def predict( self, X ) : \n",
        "        Z=X.dot( self.W ) + self.b \n",
        "        A = self.sigmoid (Z)        \n",
        "        Y = np.where( A > 0.5, 1, 0 )        \n",
        "        return Y"
      ],
      "metadata": {
        "id": "c_ltzovmquUl"
      },
      "execution_count": 5,
      "outputs": []
    },
    {
      "cell_type": "code",
      "source": [
        "def accuracy(Y_test,Y_pred):\n",
        "    correctly_classified = 0\n",
        "    # counter    \n",
        "    count = 0    \n",
        "    for count in range( np.size( Y_pred ) ) :  \n",
        "        \n",
        "        if Y_test[count] == Y_pred[count] :            \n",
        "            correctly_classified = correctly_classified + 1\n",
        "              \n",
        "        count = count + 1\n",
        "          \n",
        "    return  (correctly_classified / count ) * 100 "
      ],
      "metadata": {
        "id": "aeyNsU8dEYwT"
      },
      "execution_count": 6,
      "outputs": []
    },
    {
      "cell_type": "code",
      "source": [
        "# Model training    \n",
        "model = MyModel( learning_rate = 0.01, iterations = 15000)\n",
        "model.fit( X_train, Y_train ) \n",
        "#built in model   \n",
        "model1 = LogisticRegression()    \n",
        "model1.fit( X_train, Y_train)"
      ],
      "metadata": {
        "colab": {
          "base_uri": "https://localhost:8080/"
        },
        "id": "bovl-_7LHR18",
        "outputId": "6d98bba8-5d4d-4d2a-9736-b7abc77bee71"
      },
      "execution_count": 7,
      "outputs": [
        {
          "output_type": "execute_result",
          "data": {
            "text/plain": [
              "LogisticRegression()"
            ]
          },
          "metadata": {},
          "execution_count": 7
        }
      ]
    },
    {
      "cell_type": "code",
      "source": [
        "# Prediction on test set\n",
        "Y_pred = model.predict( X_test )    \n",
        "Y_pred1 = model1.predict( X_test )"
      ],
      "metadata": {
        "id": "AzBU1KVHHZJd"
      },
      "execution_count": 8,
      "outputs": []
    },
    {
      "cell_type": "code",
      "source": [
        "#Calculating Accuracy Score        \n",
        "print( \"Accuracy on test set by our model       :  \",accuracy(Y_test, Y_pred))\n",
        "print( \"Accuracy on test set by sklearn model   :  \",accuracy(Y_test, Y_pred1))"
      ],
      "metadata": {
        "colab": {
          "base_uri": "https://localhost:8080/"
        },
        "id": "JcJEq4XWHckE",
        "outputId": "ca23d71d-c997-4678-a9a1-90d75ddbf4ff"
      },
      "execution_count": 9,
      "outputs": [
        {
          "output_type": "stream",
          "name": "stdout",
          "text": [
            "Accuracy on test set by our model       :   94.21052631578948\n",
            "Accuracy on test set by sklearn model   :   94.73684210526315\n"
          ]
        }
      ]
    },
    {
      "cell_type": "code",
      "source": [
        "#Calculating Confusion Matrix\n",
        "CM = confusion_matrix(Y_test, Y_pred)\n",
        "print('Confusion Matrix on my model : \\n', CM)\n",
        "CM1 = confusion_matrix(Y_test, Y_pred1)\n",
        "print('Confusion Matrix in built in model : \\n', CM1)\n",
        "# drawing confusion matrix\n",
        "sns.heatmap(CM, center = True)\n",
        "plt.show()\n",
        "sns.heatmap(CM1,center = True)\n",
        "plt.show()"
      ],
      "metadata": {
        "colab": {
          "base_uri": "https://localhost:8080/",
          "height": 622
        },
        "id": "hsQpkMxE7Qz9",
        "outputId": "bb658609-f7ee-4b22-f851-02f873f1a36a"
      },
      "execution_count": 10,
      "outputs": [
        {
          "output_type": "stream",
          "name": "stdout",
          "text": [
            "Confusion Matrix on my model : \n",
            " [[ 65   4]\n",
            " [  7 114]]\n",
            "Confusion Matrix in built in model : \n",
            " [[ 64   5]\n",
            " [  5 116]]\n"
          ]
        },
        {
          "output_type": "display_data",
          "data": {
            "text/plain": [
              "<Figure size 432x288 with 2 Axes>"
            ],
            "image/png": "[encoded data removed]"
          },
          "metadata": {
            "needs_background": "light"
          }
        },
        {
          "output_type": "display_data",
          "data": {
            "text/plain": [
              "<Figure size 432x288 with 2 Axes>"
            ],
            "image/png": "[encoded data removed]"
          },
          "metadata": {
            "needs_background": "light"
          }
        }
      ]
    }
  ]
}